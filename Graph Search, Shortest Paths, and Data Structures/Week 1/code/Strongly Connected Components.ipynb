{
 "cells": [
  {
   "cell_type": "markdown",
   "metadata": {},
   "source": [
    "The file contains the edges of a directed graph. Vertices are labeled as positive integers from 1 to 875714. Every row indicates an edge, the vertex label in first column is the tail and the vertex label in second column is the head (recall the graph is directed, and the edges are directed from the first column vertex to the second column vertex). So for example, the $11^{th}$ row looks like this : \"2 47646\". This just means that the vertex with label 2 has an outgoing edge to the vertex with label 47646.\n",
    "\n",
    "Your task is to code up the algorithm from the video lectures for computing strongly connected components (SCCs), and to run this algorithm on the given graph.\n",
    "\n",
    "Output Format: You should output the sizes of the 5 largest SCCs in the given graph, in decreasing order of sizes, separated by commas (avoid any spaces). So if your algorithm computes the sizes of the five largest SCCs to be 500, 400, 300, 200 and 100, then your answer should be \"500,400,300,200,100\" (without the quotes). If your algorithm finds less than 5 SCCs, then write 0 for the remaining terms. Thus, if your algorithm computes only 3 SCCs whose sizes are 400, 300, and 100, then your answer should be \"400,300,100,0,0\" (without the quotes). (Note also that your answer should not have any spaces in it.)\n",
    "\n",
    "WARNING: This is the most challenging programming assignment of the course. Because of the size of the graph you may have to manage memory carefully. The best way to do this depends on your programming language and environment, and we strongly suggest that you exchange tips for doing this on the discussion forums."
   ]
  },
  {
   "cell_type": "code",
   "execution_count": 7,
   "metadata": {},
   "outputs": [],
   "source": [
    "import multiprocessing\n",
    "class SCC(multiprocessing.Process):\n",
    "    \n",
    "    def __init__(self, file, map_len):\n",
    "        self.placenum = 0\n",
    "        self.map_len = map_len\n",
    "        self.vertnum = map_len\n",
    "        self.explored = [False for i in range(1, map_len+1)]  \n",
    "        self.explored2 = [False for i in range(1, map_len+1)]  \n",
    "        self.visit_order = [0 for i in range(1, map_len+1)]  \n",
    "        self.sccs = [0 for i in range(1, map_len+1)]\n",
    "        self.G = {i : [] for i in range(1, map_len+1)}\n",
    "        self.G_rev = {i : [] for i in range(1, map_len+1)}        \n",
    "        with open(file) as f:\n",
    "            for line in f:\n",
    "                lst = [int(num) for num in line.split()]\n",
    "                self.G[lst[0]].append(lst[1])\n",
    "                self.G_rev[lst[1]].append(lst[0])             \n",
    "        \n",
    "    def dfs1(self, vert_idx):  \n",
    "        for idx in self.G_rev[vert_idx]:  \n",
    "            if self.explored[idx-1] == False:  \n",
    "                    self.explored[idx-1] = True  \n",
    "                    self.dfs1(idx)\n",
    "        self.vertnum -= 1                \n",
    "        self.visit_order[self.vertnum] = vert_idx   \n",
    "        \n",
    "    def dfs2(self, vert_idx):\n",
    "        for idx in self.G[vert_idx]:  \n",
    "            if self.explored2[idx-1] == False:  \n",
    "                    self.explored2[idx-1] = True  \n",
    "                    self.dfs2(idx)  \n",
    "        self.sccs[self.placenum-1] += 1\n",
    "    \n",
    "    def dfs_loop(self):\n",
    "        for idx in range(1, self.map_len+1):  \n",
    "            if self.explored[idx-1] == False:  \n",
    "                    self.explored[idx-1] = True  \n",
    "                    self.dfs1(idx)  \n",
    "       \n",
    "        for idx in self.visit_order:  \n",
    "            if self.explored2[idx-1] == False:  \n",
    "                    self.placenum = idx  \n",
    "                    self.explored2[idx-1] = True  \n",
    "                    self.dfs2(idx)  \n",
    "\n",
    "        return sorted(self.sccs, reverse = True)\n",
    "    \n",
    "    def answer(self, outnum):\n",
    "        ans = self.dfs_loop()\n",
    "        ans = ans[:outnum]\n",
    "        return ', '.join(str(num) for num in ans)"
   ]
  },
  {
   "cell_type": "code",
   "execution_count": 8,
   "metadata": {},
   "outputs": [
    {
     "data": {
      "text/plain": [
       "65000000"
      ]
     },
     "execution_count": 8,
     "metadata": {},
     "output_type": "execute_result"
    }
   ],
   "source": [
    "from sys import setrecursionlimit\n",
    "from threading import stack_size, Thread\n",
    "myfile = 'SCC.txt'\n",
    "vertnum = 875714\n",
    "output_num = 5\n",
    "setrecursionlimit(100000)\n",
    "stack_size(65000000)"
   ]
  },
  {
   "cell_type": "code",
   "execution_count": 9,
   "metadata": {},
   "outputs": [
    {
     "name": "stdout",
     "output_type": "stream",
     "text": [
      "The answer is 434821, 968, 459, 313, 211.\n",
      "Wall time: 10.6 s\n"
     ]
    }
   ],
   "source": [
    "%%time\n",
    "scc = SCC(myfile, vertnum)\n",
    "thread = Thread(target = scc.answer, args = (output_num,))\n",
    "thread.start()\n",
    "thread.join()\n",
    "ans = scc.answer(output_num)\n",
    "print(\"The answer is {}.\".format(ans))"
   ]
  },
  {
   "cell_type": "code",
   "execution_count": null,
   "metadata": {},
   "outputs": [],
   "source": []
  }
 ],
 "metadata": {
  "kernelspec": {
   "display_name": "Python 3",
   "language": "python",
   "name": "python3"
  },
  "language_info": {
   "codemirror_mode": {
    "name": "ipython",
    "version": 3
   },
   "file_extension": ".py",
   "mimetype": "text/x-python",
   "name": "python",
   "nbconvert_exporter": "python",
   "pygments_lexer": "ipython3",
   "version": "3.6.7"
  }
 },
 "nbformat": 4,
 "nbformat_minor": 2
}
