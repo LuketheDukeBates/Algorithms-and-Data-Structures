{
 "cells": [
  {
   "cell_type": "markdown",
   "metadata": {},
   "source": [
    "The file contains an adjacency list representation of an undirected weighted graph with 200 vertices labeled 1 to 200. Each row consists of the node tuples that are adjacent to that particular vertex along with the length of that edge. For example, the 6th row has 6 as the first entry indicating that this row corresponds to the vertex labeled 6. The next entry of this row \"141,8200\" indicates that there is an edge between vertex 6 and vertex 141 that has length 8200. The rest of the pairs of this row indicate the other vertices adjacent to vertex 6 and the lengths of the corresponding edges.\n",
    "\n",
    "Your task is to run Dijkstra's shortest-path algorithm on this graph, using 1 (the first vertex) as the source vertex, and to compute the shortest-path distances between 1 and every other vertex of the graph. If there is no path between a vertex $v$ and vertex 1, we'll define the shortest-path distance between 1 and $v$ to be 1000000.\n",
    "\n",
    "You should report the shortest-path distances to the following ten vertices, in order: 7,37,59,82,99,115,133,165,188,197. You should encode the distances as a comma-separated string of integers. So if you find that all ten of these vertices except 115 are at distance 1000 away from vertex 1 and 115 is 2000 distance away, then your answer should be 1000,1000,1000,1000,1000,2000,1000,1000,1000,1000. Remember the order of reporting DOES MATTER, and the string should be in the same order in which the above ten vertices are given. The string should not contain any spaces. Please type your answer in the space provided.\n",
    "\n",
    "IMPLEMENTATION NOTES: This graph is small enough that the straightforward $O(mn)$ time implementation of Dijkstra's algorithm should work fine. OPTIONAL: For those of you seeking an additional challenge, try implementing the heap-based version. Note this requires a heap that supports deletions, and you'll probably need to maintain some kind of mapping between vertices and their positions in the heap."
   ]
  },
  {
   "cell_type": "code",
   "execution_count": 1,
   "metadata": {},
   "outputs": [],
   "source": [
    "import ast\n",
    "class Dijkstra:\n",
    "    \n",
    "    def __init__(self, file):\n",
    "        self.graph = dict()\n",
    "        with open(file) as f:\n",
    "            for ln in f:\n",
    "                line = ln.split()\n",
    "                vert = int(line[0])\n",
    "                edges = line[1:]\n",
    "                self.graph[vert] = [ast.literal_eval(edge) for edge in edges]\n",
    "        self.vertices = self.graph.keys()\n",
    "    \n",
    "    def source_vert(self):\n",
    "        for vert in self.vertices:\n",
    "            yield vert\n",
    "    \n",
    "    def get_shortest_paths(self):\n",
    "        paths = dict()\n",
    "        visited = set()\n",
    "        start = next(self.source_vert())\n",
    "        visited.add(start)\n",
    "        paths[start] = [0, []]\n",
    "        \n",
    "        while len(set(self.vertices - visited)) > 0:\n",
    "            min_edge = []\n",
    "            for vert in visited:\n",
    "                for edge in self.graph[vert]:\n",
    "                    first = edge[0]\n",
    "                    summ = paths[vert][0] + edge[1]                 \n",
    "                    if first in visited: continue                        \n",
    "                    \n",
    "                    elif len(min_edge) < 1 or min(summ, min_edge[1]) == summ:\n",
    "                        min_edge = [first, summ]\n",
    "            \n",
    "            firstmin = min_edge[0]\n",
    "            visited.add(firstmin)\n",
    "            paths[firstmin] = [min_edge[1],  [firstmin] + paths[vert][1]]\n",
    "                    \n",
    "        return paths\n",
    "    \n",
    "    def answer(self, vertices):\n",
    "        output = ''\n",
    "        paths = self.get_shortest_paths()\n",
    "        actual = {vert: min_dist[0] for vert, min_dist in paths.items()}\n",
    "        for vert in vertices:\n",
    "            output += str(actual[vert]) + ', '\n",
    "        \n",
    "        return output[:-2]\n",
    "    "
   ]
  },
  {
   "cell_type": "code",
   "execution_count": 2,
   "metadata": {},
   "outputs": [
    {
     "name": "stdout",
     "output_type": "stream",
     "text": [
      "The answer is 2599, 2610, 2947, 2052, 2367, 2399, 2029, 2442, 2505, 3068.\n",
      "Wall time: 89 ms\n"
     ]
    }
   ],
   "source": [
    "%%time\n",
    "answer_vertices = [7, 37, 59, 82, 99, 115, 133, 165, 188, 197]\n",
    "dij = Dijkstra('dijkstraData.txt')\n",
    "ans = dij.answer(answer_vertices)\n",
    "print(\"The answer is {}.\".format(ans))"
   ]
  },
  {
   "cell_type": "code",
   "execution_count": null,
   "metadata": {},
   "outputs": [],
   "source": []
  }
 ],
 "metadata": {
  "kernelspec": {
   "display_name": "Python 3",
   "language": "python",
   "name": "python3"
  },
  "language_info": {
   "codemirror_mode": {
    "name": "ipython",
    "version": 3
   },
   "file_extension": ".py",
   "mimetype": "text/x-python",
   "name": "python",
   "nbconvert_exporter": "python",
   "pygments_lexer": "ipython3",
   "version": "3.6.7"
  }
 },
 "nbformat": 4,
 "nbformat_minor": 2
}
