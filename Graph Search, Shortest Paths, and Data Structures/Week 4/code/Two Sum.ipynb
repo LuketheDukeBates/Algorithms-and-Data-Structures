{
 "cells": [
  {
   "cell_type": "markdown",
   "metadata": {},
   "source": [
    "The goal of this problem is to implement a variant of the 2-SUM algorithm covered in this week's lectures.\n",
    "\n",
    "The file contains 1 million integers, both positive and negative (there might be some repetitions!).This is your array of integers, with the $i^{th}$ row of the file specifying the $i^{th}$ entry of the array.\n",
    "\n",
    "Your task is to compute the number of target values $t$ in the interval $[-10000,10000]$ (inclusive) such that there are distinct numbers $x,y$ in the input file that satisfy $x+y=t$. (NOTE: ensuring distinctness requires a one-line addition to the algorithm from lecture.)\n",
    "\n",
    "Write your numeric answer (an integer between 0 and 20001) in the space provided.\n",
    "\n",
    "OPTIONAL CHALLENGE: If this problem is too easy for you, try implementing your own hash table for it. For example, you could compare performance under the chaining and open addressing approaches to resolving collisions."
   ]
  },
  {
   "cell_type": "code",
   "execution_count": 1,
   "metadata": {},
   "outputs": [],
   "source": [
    "class TwoSum:\n",
    "    def __init__(self, file, left, right):\n",
    "        self.left = left\n",
    "        self.right = right\n",
    "        self.target_values = set()\n",
    "        nums = set()\n",
    "        with open(file) as f:\n",
    "            for number in f:\n",
    "                nums.add(int(number))\n",
    "        self.array = sorted(nums)     \n",
    "        \n",
    "    def binary_search_left(self, array, num):\n",
    "        low = 0\n",
    "        high = len(array)\n",
    "        while low < high:\n",
    "            mid = (low + high) // 2\n",
    "            if array[mid] < num: \n",
    "                low = mid + 1\n",
    "            else: \n",
    "                high = mid\n",
    "        return low\n",
    "    \n",
    "    def binary_search_right(self, array, num):\n",
    "        low = 0\n",
    "        high = len(array)\n",
    "        while low < high:\n",
    "            mid = (low + high) // 2\n",
    "            if num < array[mid]: \n",
    "                high = mid\n",
    "            else: \n",
    "                low = mid + 1\n",
    "        return low\n",
    "\n",
    "    def find_target_values(self):\n",
    "        for number in self.array:\n",
    "            low = self.binary_search_left(self.array, self.left - number)\n",
    "            high = self.binary_search_right(self.array, self.right - number)\n",
    "            for pair_num in self.array[low:high]:\n",
    "                if pair_num != number:\n",
    "                    self.target_values.add(number + pair_num)\n",
    "    \n",
    "    def answer(self):\n",
    "        self.find_target_values()\n",
    "        return len(self.target_values)"
   ]
  },
  {
   "cell_type": "code",
   "execution_count": 2,
   "metadata": {},
   "outputs": [],
   "source": [
    "file = \"algo1-programming_prob-2sum.txt\"\n",
    "left = -10000\n",
    "right = 10000"
   ]
  },
  {
   "cell_type": "code",
   "execution_count": 3,
   "metadata": {},
   "outputs": [
    {
     "name": "stdout",
     "output_type": "stream",
     "text": [
      "The answer is 427.\n",
      "Wall time: 6.36 s\n"
     ]
    }
   ],
   "source": [
    "%%time\n",
    "two_sum = TwoSum(file, left, right)\n",
    "ans = two_sum.answer()\n",
    "print(\"The answer is {}.\".format(ans))"
   ]
  }
 ],
 "metadata": {
  "kernelspec": {
   "display_name": "Python 3",
   "language": "python",
   "name": "python3"
  },
  "language_info": {
   "codemirror_mode": {
    "name": "ipython",
    "version": 3
   },
   "file_extension": ".py",
   "mimetype": "text/x-python",
   "name": "python",
   "nbconvert_exporter": "python",
   "pygments_lexer": "ipython3",
   "version": "3.6.7"
  }
 },
 "nbformat": 4,
 "nbformat_minor": 2
}
