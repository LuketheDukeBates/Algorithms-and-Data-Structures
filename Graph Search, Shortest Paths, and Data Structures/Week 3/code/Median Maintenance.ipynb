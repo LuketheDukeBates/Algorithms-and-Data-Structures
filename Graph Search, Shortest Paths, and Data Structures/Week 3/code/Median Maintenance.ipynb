{
 "cells": [
  {
   "cell_type": "markdown",
   "metadata": {},
   "source": [
    "The goal of this problem is to implement the \"Median Maintenance\" algorithm (covered in the Week 3 lecture on heap applications). The text file contains a list of the integers from 1 to 10000 in unsorted order; you should treat this as a stream of numbers, arriving one by one. Letting $x_i$ denote the $ith$ number of the file, the $kth$ median $m_k$ is defined as the median of the numbers $x_1,\\ldots,x_k$. (So, if $k$ is odd, then $m_k$ is $((k+1)/2)th$ smallest number among $x_1,\\ldots,x_k$; if $k$ is even, then $m_k$ is the $(k/2)th$ smallest number among $x_1,\\ldots,x_k$.)\n",
    "\n",
    "In the box below you should type the sum of these 10000 medians, modulo 10000 (i.e., only the last 4 digits). That is, you should compute $(m1+m2+m3+⋯+m10000)mod10000$.\n",
    "\n",
    "OPTIONAL EXERCISE: Compare the performance achieved by heap-based and search-tree-based implementations of the algorithm."
   ]
  },
  {
   "cell_type": "code",
   "execution_count": 1,
   "metadata": {},
   "outputs": [],
   "source": [
    "from heapq import nsmallest as ns\n",
    "\n",
    "class MedianMaintain:\n",
    "    \n",
    "    def __init__(self, file):\n",
    "        self.median = []\n",
    "        with open(file) as f:\n",
    "            self.data = [int(num) for num in f]\n",
    "        \n",
    "    def find_median(self):\n",
    "        for i in range(1, len(self.data)+1):\n",
    "            sorted_data = ns(i, self.data[:i])\n",
    "            \n",
    "            if i//2 * 2 == i:\n",
    "                self.median.append(sorted_data[i//2 - 1])\n",
    "                \n",
    "            else:\n",
    "                self.median.append(sorted_data[(i+1)//2 - 1])\n",
    "    \n",
    "    def answer(self):\n",
    "        self.find_median()\n",
    "        return sum(self.median) % len(self.data)"
   ]
  },
  {
   "cell_type": "code",
   "execution_count": 2,
   "metadata": {},
   "outputs": [
    {
     "name": "stdout",
     "output_type": "stream",
     "text": [
      "The answer is 1213.\n",
      "Wall time: 9.27 s\n"
     ]
    }
   ],
   "source": [
    "%%time\n",
    "mm = MedianMaintain('Median.txt')\n",
    "ans = mm.answer()\n",
    "print(\"The answer is {}.\".format(ans))"
   ]
  },
  {
   "cell_type": "code",
   "execution_count": null,
   "metadata": {},
   "outputs": [],
   "source": []
  }
 ],
 "metadata": {
  "kernelspec": {
   "display_name": "Python 3",
   "language": "python",
   "name": "python3"
  },
  "language_info": {
   "codemirror_mode": {
    "name": "ipython",
    "version": 3
   },
   "file_extension": ".py",
   "mimetype": "text/x-python",
   "name": "python",
   "nbconvert_exporter": "python",
   "pygments_lexer": "ipython3",
   "version": "3.6.7"
  }
 },
 "nbformat": 4,
 "nbformat_minor": 2
}
