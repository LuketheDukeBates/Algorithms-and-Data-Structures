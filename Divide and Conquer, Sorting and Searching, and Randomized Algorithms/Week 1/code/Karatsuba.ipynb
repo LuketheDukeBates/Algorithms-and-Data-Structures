{
 "cells": [
  {
   "cell_type": "markdown",
   "metadata": {},
   "source": [
    "In this programming assignment you will implement one or more of the integer multiplication algorithms described in lecture.\n",
    "\n",
    "To get the most out of this assignment, your program should restrict itself to multiplying only pairs of single-digit numbers. You can implement the grade-school algorithm if you want, but to get the most out of the assignment you'll want to implement recursive integer multiplication and/or Karatsuba's algorithm.\n",
    "\n",
    "So: what's the product of the following two 64-digit numbers?\n",
    "\n",
    "3141592653589793238462643383279502884197169399375105820974944592\n",
    "\n",
    "2718281828459045235360287471352662497757247093699959574966967627\n",
    "\n",
    "[TIP: before submitting, first test the correctness of your program on some small test cases of your own devising. Then post your best test cases to the discussion forums to help your fellow students!]\n",
    "\n",
    "[Food for thought: the number of digits in each input number is a power of 2. Does this make your life easier? Does it depend on which algorithm you're implementing?]\n",
    "\n",
    "The numeric answer should be typed in the space below. So if your answer is 1198233847, then just type 1198233847 in the space provided without any space / commas / any other punctuation marks.\n",
    "\n",
    "(We do not require you to submit your code, so feel free to use any programming language you want --- just type the final numeric answer in the following space.)"
   ]
  },
  {
   "cell_type": "code",
   "execution_count": 20,
   "metadata": {},
   "outputs": [],
   "source": [
    "class Multiplier:\n",
    "    def __init__(self):\n",
    "        self = self\n",
    "        \n",
    "    def karatsuba(self, num_1, num_2):\n",
    "        \n",
    "        if 10 > num_1 or 10 > num_2:\n",
    "            res = num_1 * num_2\n",
    "            return res\n",
    "\n",
    "        num_1_str = str(num_1); num_2_str = str(num_2)\n",
    "        max_len = max(len(num_1_str), len(num_2_str))\n",
    "\n",
    "        split = max_len // 2\n",
    "        high_1 = int(num_1_str[:-split])\n",
    "        low_1 =int(num_1_str[-split:])\n",
    "        high_2 = int(num_2_str[:-split])\n",
    "        low_2 =int(num_2_str[-split:])\n",
    "\n",
    "        #recursive calls\n",
    "        x1 = self.karatsuba(low_1, low_2)\n",
    "        x2 = self.karatsuba((low_1 + high_1), (low_2 + high_2))\n",
    "        x3 = self.karatsuba(high_1, high_2)\n",
    "\n",
    "        first = x3*10**(2*split)\n",
    "        second = ((x2-x3-x1)*10**split) \n",
    "        answer = first + second + x1\n",
    "\n",
    "        return answer"
   ]
  },
  {
   "cell_type": "code",
   "execution_count": 21,
   "metadata": {},
   "outputs": [],
   "source": [
    "num1 = 3141592653589793238462643383279502884197169399375105820974944592\n",
    "num2 = 2718281828459045235360287471352662497757247093699959574966967627"
   ]
  },
  {
   "cell_type": "code",
   "execution_count": 22,
   "metadata": {},
   "outputs": [
    {
     "name": "stdout",
     "output_type": "stream",
     "text": [
      "8539734222673567065463550869546574495034888535765114961879601127067743044893204848617875072216249073013374895871952806582723184\n"
     ]
    }
   ],
   "source": [
    "print(num1*num2)"
   ]
  },
  {
   "cell_type": "code",
   "execution_count": 23,
   "metadata": {},
   "outputs": [],
   "source": [
    "mult = Multiplier()"
   ]
  },
  {
   "cell_type": "code",
   "execution_count": 24,
   "metadata": {},
   "outputs": [
    {
     "name": "stdout",
     "output_type": "stream",
     "text": [
      "8539734222673567065463550869546574495034888535765114961879601127067743044893204848617875072216249073013374895871952806582723184\n"
     ]
    }
   ],
   "source": [
    "print(mult.karatsuba(num1, num2))"
   ]
  },
  {
   "cell_type": "code",
   "execution_count": 25,
   "metadata": {},
   "outputs": [
    {
     "data": {
      "text/plain": [
       "True"
      ]
     },
     "execution_count": 25,
     "metadata": {},
     "output_type": "execute_result"
    }
   ],
   "source": [
    "(num1*num2) == mult.karatsuba(num1, num2)"
   ]
  },
  {
   "cell_type": "code",
   "execution_count": null,
   "metadata": {},
   "outputs": [],
   "source": []
  },
  {
   "cell_type": "code",
   "execution_count": null,
   "metadata": {},
   "outputs": [],
   "source": []
  }
 ],
 "metadata": {
  "kernelspec": {
   "display_name": "Python 3",
   "language": "python",
   "name": "python3"
  },
  "language_info": {
   "codemirror_mode": {
    "name": "ipython",
    "version": 3
   },
   "file_extension": ".py",
   "mimetype": "text/x-python",
   "name": "python",
   "nbconvert_exporter": "python",
   "pygments_lexer": "ipython3",
   "version": "3.6.7"
  }
 },
 "nbformat": 4,
 "nbformat_minor": 2
}
