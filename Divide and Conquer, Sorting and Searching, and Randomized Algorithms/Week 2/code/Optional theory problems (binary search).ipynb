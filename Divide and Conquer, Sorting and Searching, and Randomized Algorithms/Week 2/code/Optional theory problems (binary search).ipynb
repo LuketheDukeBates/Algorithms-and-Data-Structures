{
 "cells": [
  {
   "cell_type": "markdown",
   "metadata": {},
   "source": [
    "You are given as input an unsorted array of n distinct numbers, where n is a power of 2. Give an algorithm that identifies the second-largest number in the array, and that uses at most $n +\\log_2n - 2 $ comparisons.\n"
   ]
  },
  {
   "cell_type": "code",
   "execution_count": 31,
   "metadata": {},
   "outputs": [],
   "source": [
    "def findSecondLargest(arr):\n",
    "     # There should be at least two elements  \n",
    "    if len(arr) < 2:      \n",
    "        return \"Invalid Input\"\n",
    "      \n",
    "  \n",
    "    first = second = float('-inf')\n",
    "    for idx, num in enumerate(arr): \n",
    "      \n",
    "        # If current element is smaller than first \n",
    "        # update both first and second  \n",
    "        if (arr[idx] > first):          \n",
    "            second = first \n",
    "            first = arr[idx] \n",
    "          \n",
    "  \n",
    "        # If first < arr[idx] < second, then update second  \n",
    "        elif (arr[idx] > second and arr[idx] != first): \n",
    "            second = arr[idx] \n",
    "      \n",
    "    if second == float('-inf'): \n",
    "        return \"There is no second largest element.\" \n",
    "    else: \n",
    "        return \"The second largest element is {}.\".format(second) \n",
    "    "
   ]
  },
  {
   "cell_type": "code",
   "execution_count": 32,
   "metadata": {},
   "outputs": [
    {
     "data": {
      "text/plain": [
       "'The second largest element is 34.'"
      ]
     },
     "execution_count": 32,
     "metadata": {},
     "output_type": "execute_result"
    }
   ],
   "source": [
    "findSecondLargest([12,35,1,10,34,1])"
   ]
  },
  {
   "cell_type": "code",
   "execution_count": 33,
   "metadata": {},
   "outputs": [
    {
     "data": {
      "text/plain": [
       "'The second largest element is 5.'"
      ]
     },
     "execution_count": 33,
     "metadata": {},
     "output_type": "execute_result"
    }
   ],
   "source": [
    "findSecondLargest([10,5,10])"
   ]
  },
  {
   "cell_type": "code",
   "execution_count": 34,
   "metadata": {},
   "outputs": [
    {
     "data": {
      "text/plain": [
       "'There is no second largest element.'"
      ]
     },
     "execution_count": 34,
     "metadata": {},
     "output_type": "execute_result"
    }
   ],
   "source": [
    "findSecondLargest([10,10,10])"
   ]
  },
  {
   "cell_type": "markdown",
   "metadata": {},
   "source": [
    "You are a given a unimodal array of n distinct elements, meaning that its entries are in increasing order up until its maximum element, after which its elements are in decreasing order. Give an algorithm to compute the maximum element that runs in O(log n) time.\n",
    "\n",
    "Use Binary Search"
   ]
  },
  {
   "cell_type": "code",
   "execution_count": 40,
   "metadata": {},
   "outputs": [],
   "source": [
    "def findMaximum(arr, low, high): \n",
    "    # Base Case: Only one element is present in array\n",
    "    if low == high: \n",
    "        return arr[low] \n",
    "   \n",
    "    # If there are two elements and first is greater then \n",
    "    # the first element is the maximum \n",
    "    if high == low + 1 and arr[low] >= arr[high]: \n",
    "        return arr[low] \n",
    "   \n",
    "    # If there are two elements and second is greater then \n",
    "    # the second element is the maximum\n",
    "    if high == low + 1 and arr[low] < arr[high]: \n",
    "        return arr[high] \n",
    "   \n",
    "    mid = (low + high) // 2   \n",
    "   \n",
    "    # If we reach a point where arr[mid] is greater than both of \n",
    "    # its adjacent elements, arr[mid-1] and arr[mid+1], then arr[mid] \n",
    "    # is the maximum element\n",
    "    if arr[mid] > arr[mid + 1] and arr[mid] > arr[mid - 1]: \n",
    "        return arr[mid] \n",
    "   \n",
    "    # If arr[mid] is greater than the next element and smaller than the previous  \n",
    "    # element then the maximum lies to the left of mid\n",
    "    if arr[mid] > arr[mid + 1] and arr[mid] < arr[mid - 1]: \n",
    "        return findMaximum(arr, low, mid-1)  #recursive call\n",
    "    \n",
    "    else: # arr[mid] is greater than arr[mid-1] and smaller than arr[mid+1], so max is to the right of mid \n",
    "        return findMaximum(arr, mid + 1, high) #recursive call"
   ]
  },
  {
   "cell_type": "code",
   "execution_count": 41,
   "metadata": {},
   "outputs": [
    {
     "data": {
      "text/plain": [
       "500"
      ]
     },
     "execution_count": 41,
     "metadata": {},
     "output_type": "execute_result"
    }
   ],
   "source": [
    "arr = [8, 10, 20, 80, 100, 200, 400, 500, 3, 2, 1]\n",
    "findMaximum(arr, 0, len(arr)-1)"
   ]
  },
  {
   "cell_type": "code",
   "execution_count": 42,
   "metadata": {},
   "outputs": [
    {
     "data": {
      "text/plain": [
       "50"
      ]
     },
     "execution_count": 42,
     "metadata": {},
     "output_type": "execute_result"
    }
   ],
   "source": [
    "arr = [1, 3, 50, 10, 9, 7, 6]\n",
    "findMaximum(arr, 0, len(arr)-1)"
   ]
  },
  {
   "cell_type": "code",
   "execution_count": 43,
   "metadata": {},
   "outputs": [
    {
     "data": {
      "text/plain": [
       "50"
      ]
     },
     "execution_count": 43,
     "metadata": {},
     "output_type": "execute_result"
    }
   ],
   "source": [
    "arr = [10, 20, 30, 40, 50]\n",
    "findMaximum(arr, 0, len(arr)-1)"
   ]
  },
  {
   "cell_type": "code",
   "execution_count": 44,
   "metadata": {},
   "outputs": [
    {
     "data": {
      "text/plain": [
       "120"
      ]
     },
     "execution_count": 44,
     "metadata": {},
     "output_type": "execute_result"
    }
   ],
   "source": [
    "arr = [120, 100, 80, 20, 0]\n",
    "findMaximum(arr, 0, len(arr)-1)"
   ]
  },
  {
   "cell_type": "markdown",
   "metadata": {},
   "source": [
    "You are given a sorted (from smallest to largest) array A of n distinct integers which can be positive, negative, or zero. You want to decide whether or not there is an index i such that A[i] = i. Design the fastest algorithm that you can for solving this problem.\n",
    "\n",
    "Use Binary Search"
   ]
  },
  {
   "cell_type": "code",
   "execution_count": 65,
   "metadata": {},
   "outputs": [],
   "source": [
    "#O(logn)\n",
    "def binarySearch(arr, low, high): \n",
    "     while low <= high:\n",
    "        mid = (low + high) // 2\n",
    "        \n",
    "        if arr[mid] < mid:\n",
    "            low = mid + 1\n",
    "        \n",
    "        elif arr[mid] > mid:\n",
    "            high = mid - 1\n",
    "        \n",
    "        else:\n",
    "            return arr[mid]\n",
    "    \n",
    "     return \"No fixed point found\""
   ]
  },
  {
   "cell_type": "code",
   "execution_count": 66,
   "metadata": {},
   "outputs": [
    {
     "data": {
      "text/plain": [
       "3"
      ]
     },
     "execution_count": 66,
     "metadata": {},
     "output_type": "execute_result"
    }
   ],
   "source": [
    "some_arr = [-10, -1, 0, 3, 10, 11, 30, 50, 100] \n",
    "binarySearch(some_arr, 0, len(some_arr)-1)"
   ]
  },
  {
   "cell_type": "code",
   "execution_count": 67,
   "metadata": {},
   "outputs": [
    {
     "data": {
      "text/plain": [
       "0"
      ]
     },
     "execution_count": 67,
     "metadata": {},
     "output_type": "execute_result"
    }
   ],
   "source": [
    "some_arr = [0, 2, 5, 8, 17] \n",
    "binarySearch(some_arr, 0, len(some_arr)-1)"
   ]
  },
  {
   "cell_type": "code",
   "execution_count": 68,
   "metadata": {},
   "outputs": [
    {
     "data": {
      "text/plain": [
       "'No fixed point found'"
      ]
     },
     "execution_count": 68,
     "metadata": {},
     "output_type": "execute_result"
    }
   ],
   "source": [
    "some_arr = [-10, -5, 3, 4, 7, 9] \n",
    "binarySearch(some_arr, 0, len(some_arr)-1)"
   ]
  },
  {
   "cell_type": "markdown",
   "metadata": {},
   "source": [
    "A peak element is an element that is greater than its neighbors.\n",
    "\n",
    "Given an input array nums, where nums[i] ≠ nums[i+1], find a peak element and return its index.\n",
    "\n",
    "The array may contain multiple peaks, in that case return the index to any one of the peaks is fine.\n",
    "\n",
    "You may imagine that nums[-1] = nums[n] = -∞."
   ]
  },
  {
   "cell_type": "code",
   "execution_count": 12,
   "metadata": {},
   "outputs": [],
   "source": [
    "def findPeak(arr):\n",
    "    for i in range(len(arr)):\n",
    "        if i == 0:\n",
    "            continue\n",
    "        if i == len(arr)-1:\n",
    "            continue\n",
    "        prev = arr[i-1]\n",
    "        curr = arr[i]\n",
    "        nextt = arr[i+1]\n",
    "        #print(prev, '', curr, '', nextt)\n",
    "        if curr > prev and curr > nextt:\n",
    "            return i\n",
    "    \n",
    "    return 'No peak found'"
   ]
  },
  {
   "cell_type": "code",
   "execution_count": 13,
   "metadata": {},
   "outputs": [
    {
     "data": {
      "text/plain": [
       "2"
      ]
     },
     "execution_count": 13,
     "metadata": {},
     "output_type": "execute_result"
    }
   ],
   "source": [
    "findPeak([1,2,3,1])"
   ]
  },
  {
   "cell_type": "code",
   "execution_count": 14,
   "metadata": {},
   "outputs": [
    {
     "data": {
      "text/plain": [
       "1"
      ]
     },
     "execution_count": 14,
     "metadata": {},
     "output_type": "execute_result"
    }
   ],
   "source": [
    "findPeak([1,2,1,3,5,6,4])"
   ]
  },
  {
   "cell_type": "code",
   "execution_count": null,
   "metadata": {},
   "outputs": [],
   "source": []
  }
 ],
 "metadata": {
  "kernelspec": {
   "display_name": "Python 3",
   "language": "python",
   "name": "python3"
  },
  "language_info": {
   "codemirror_mode": {
    "name": "ipython",
    "version": 3
   },
   "file_extension": ".py",
   "mimetype": "text/x-python",
   "name": "python",
   "nbconvert_exporter": "python",
   "pygments_lexer": "ipython3",
   "version": "3.6.7"
  }
 },
 "nbformat": 4,
 "nbformat_minor": 2
}
