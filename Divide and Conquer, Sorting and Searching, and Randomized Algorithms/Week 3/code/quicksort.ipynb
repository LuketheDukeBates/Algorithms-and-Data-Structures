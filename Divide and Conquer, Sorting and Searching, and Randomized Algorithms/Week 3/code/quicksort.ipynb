{
 "cells": [
  {
   "cell_type": "code",
   "execution_count": 31,
   "metadata": {},
   "outputs": [],
   "source": [
    "with open ('QuickSort.txt') as f:\n",
    "    nums = [int(num) for num in f]"
   ]
  },
  {
   "cell_type": "code",
   "execution_count": 15,
   "metadata": {},
   "outputs": [
    {
     "data": {
      "text/plain": [
       "2148"
      ]
     },
     "execution_count": 15,
     "metadata": {},
     "output_type": "execute_result"
    }
   ],
   "source": [
    "nums[0]"
   ]
  },
  {
   "cell_type": "code",
   "execution_count": 16,
   "metadata": {},
   "outputs": [
    {
     "data": {
      "text/plain": [
       "9269"
      ]
     },
     "execution_count": 16,
     "metadata": {},
     "output_type": "execute_result"
    }
   ],
   "source": [
    "nums[-1]"
   ]
  },
  {
   "cell_type": "code",
   "execution_count": 17,
   "metadata": {},
   "outputs": [
    {
     "data": {
      "text/plain": [
       "10000"
      ]
     },
     "execution_count": 17,
     "metadata": {},
     "output_type": "execute_result"
    }
   ],
   "source": [
    "len(nums)"
   ]
  },
  {
   "cell_type": "code",
   "execution_count": 18,
   "metadata": {},
   "outputs": [
    {
     "data": {
      "text/plain": [
       "10000"
      ]
     },
     "execution_count": 18,
     "metadata": {},
     "output_type": "execute_result"
    }
   ],
   "source": [
    "len(set(nums))"
   ]
  },
  {
   "cell_type": "code",
   "execution_count": 22,
   "metadata": {},
   "outputs": [],
   "source": [
    "class Quicksort:\n",
    "    \n",
    "    def __init__(self):\n",
    "        self = self\n",
    "    \n",
    "    def find_med(self, arr):\n",
    "    \n",
    "        for i in range(3):\n",
    "            if arr[i] != min(arr) and arr[i] != max(arr):\n",
    "                return arr[i]\n",
    "    \n",
    "    def swap(self, arr, one, two):\n",
    "        first = arr[one]\n",
    "        second = arr[two]\n",
    "        arr[one] = second\n",
    "        arr[two] = first\n",
    "        \n",
    "        return arr\n",
    "    \n",
    "    def partition(self, arr):\n",
    "        pivot = arr[0]\n",
    "        r = len(arr)\n",
    "        i = 1\n",
    "        for j in range(1, r):\n",
    "            if arr[j] < pivot:\n",
    "                arr = self.swap(arr, i, j)\n",
    "                i += 1\n",
    "        arr = self.swap(arr, 0, i-1)\n",
    "\n",
    "        return arr, i-1\n",
    "    \n",
    "    def choose_pivot(self, arr, question):\n",
    "        n = len(arr)\n",
    "        left = arr[0]\n",
    "        right = arr[n-1]\n",
    "        if n//2*2 == n:\n",
    "            k = n//2 - 1\n",
    "            mid = arr[k]\n",
    "        else: #n/2*2 < n\n",
    "            k = n//2\n",
    "            mid = arr[k]\n",
    "\n",
    "\n",
    "        B = [left, mid, right]\n",
    "        median = self.find_med(B)\n",
    "\n",
    "        if median == B[0]:\n",
    "            pivot = 0\n",
    "        elif median == B[1]:\n",
    "            pivot = k\n",
    "        else:\n",
    "            pivot = n-1\n",
    "\n",
    "        if question == 1:\n",
    "            return 0\n",
    "\n",
    "        if question == 2:\n",
    "            return n-1\n",
    "\n",
    "        if question == 3:\n",
    "            return pivot\n",
    "    \n",
    "    def sort(self, arr, question):\n",
    "        n = len(arr)\n",
    "        if n <= 1:\n",
    "            return arr, 0     \n",
    "\n",
    "        pivot = self.choose_pivot(arr, question)\n",
    "        arr = self.swap(arr, 0, pivot)\n",
    "        arr, pivot_position = self.partition(arr)\n",
    "        arr[:pivot_position], left = self.sort(arr[:pivot_position], question)\n",
    "        arr[pivot_position+1:], right = self.sort(arr[pivot_position+1:], question)\n",
    "\n",
    "        answer = left + right + n - 1\n",
    "\n",
    "        return arr, answer"
   ]
  },
  {
   "cell_type": "markdown",
   "metadata": {},
   "source": [
    "Your task is to compute the total number of comparisons used to sort the given input file by QuickSort. As you know, the number of comparisons depends on which elements are chosen as pivots, so we'll ask you to explore three different pivoting rules.\n",
    "\n",
    "You should not count comparisons one-by-one. Rather, when there is a recursive call on a subarray of length mm, you should simply add m-1m−1 to your running total of comparisons. (This is because the pivot element is compared to each of the other m-1m−1 elements in the subarray in this recursive call.)\n",
    "\n",
    "WARNING: The Partition subroutine can be implemented in several different ways, and different implementations can give you differing numbers of comparisons. For this problem, you should implement the Partition subroutine exactly as it is described in the video lectures (otherwise you might get the wrong answer).\n",
    "\n",
    "DIRECTIONS FOR THIS PROBLEM:\n",
    "\n",
    "For the first part of the programming assignment, you should always use the first element of the array as the pivot element.\n",
    "\n",
    "HOW TO GIVE US YOUR ANSWER:\n",
    "\n",
    "Type the numeric answer in the space provided.\n",
    "\n",
    "So if your answer is 1198233847, then just type 1198233847 in the space provided without any space / commas / other punctuation marks. You have 5 attempts to get the correct answer.\n",
    "\n",
    "(We do not require you to submit your code, so feel free to use the programming language of your choice, just type the numeric answer in the following space.)"
   ]
  },
  {
   "cell_type": "code",
   "execution_count": 29,
   "metadata": {},
   "outputs": [],
   "source": [
    "qs = Quicksort()"
   ]
  },
  {
   "cell_type": "code",
   "execution_count": 27,
   "metadata": {},
   "outputs": [
    {
     "name": "stdout",
     "output_type": "stream",
     "text": [
      "The answer to the first question is 162085.\n",
      "Wall time: 47 ms\n"
     ]
    }
   ],
   "source": [
    "%%time\n",
    "quicksorted_array, answer1 = qs.sort(nums, question=1)\n",
    "print(\"The answer to the first question is {}.\".format(answer1))"
   ]
  },
  {
   "cell_type": "markdown",
   "metadata": {},
   "source": [
    "Compute the number of comparisons (as in Problem 1), always using the final element of the given array as the pivot element. Again, be sure to implement the Partition subroutine exactly as it is described in the video lectures.\n",
    "\n",
    "Recall from the lectures that, just before the main Partition subroutine, you should exchange the pivot element (i.e., the last element) with the first element."
   ]
  },
  {
   "cell_type": "code",
   "execution_count": 30,
   "metadata": {},
   "outputs": [
    {
     "name": "stdout",
     "output_type": "stream",
     "text": [
      "The answer to the second question is 164123.\n",
      "Wall time: 42 ms\n"
     ]
    }
   ],
   "source": [
    "%%time\n",
    "quicksorted_array, answer2 = qs.sort(nums, question=2)\n",
    "print(\"The answer to the second question is {}.\".format(answer2))"
   ]
  },
  {
   "cell_type": "markdown",
   "metadata": {},
   "source": [
    "Compute the number of comparisons (as in Problem 1), using the \"median-of-three\" pivot rule. [The primary motivation behind this rule is to do a little bit of extra work to get much better performance on input arrays that are nearly sorted or reverse sorted.] In more detail, you should choose the pivot as follows. Consider the first, middle, and final elements of the given array. (If the array has odd length it should be clear what the \"middle\" element is; for an array with even length $ 2k$, use the $k^{th}$ element as the \"middle\" element. So for the array 4 5 6 7, the \"middle\" element is the second one ---- 5 and not 6!) Identify which of these three elements is the median (i.e., the one whose value is in between the other two), and use this as your pivot. As discussed in the first and second parts of this programming assignment, be sure to implement Partition exactly as described in the video lectures (including exchanging the pivot element with the first element just before the main Partition subroutine).\n",
    "\n",
    "EXAMPLE: For the input array 8 2 4 5 7 1 you would consider the first (8), middle (4), and last (1) elements; since 4 is the median of the set {1,4,8}, you would use 4 as your pivot element.\n",
    "\n",
    "SUBTLE POINT: A careful analysis would keep track of the comparisons made in identifying the median of the three candidate elements. You should NOT do this. That is, as in the previous two problems, you should simply add $m-1$ to your running total of comparisons every time you recurse on a subarray with length $m$."
   ]
  },
  {
   "cell_type": "code",
   "execution_count": 32,
   "metadata": {},
   "outputs": [
    {
     "name": "stdout",
     "output_type": "stream",
     "text": [
      "The answer to the third question is 138382.\n",
      "Wall time: 36 ms\n"
     ]
    }
   ],
   "source": [
    "%%time\n",
    "quicksorted_array, answer3 = qs.sort(nums, question=3)\n",
    "print(\"The answer to the third question is {}.\".format(answer3))"
   ]
  },
  {
   "cell_type": "code",
   "execution_count": null,
   "metadata": {},
   "outputs": [],
   "source": []
  }
 ],
 "metadata": {
  "kernelspec": {
   "display_name": "Python 3",
   "language": "python",
   "name": "python3"
  },
  "language_info": {
   "codemirror_mode": {
    "name": "ipython",
    "version": 3
   },
   "file_extension": ".py",
   "mimetype": "text/x-python",
   "name": "python",
   "nbconvert_exporter": "python",
   "pygments_lexer": "ipython3",
   "version": "3.6.7"
  }
 },
 "nbformat": 4,
 "nbformat_minor": 2
}
