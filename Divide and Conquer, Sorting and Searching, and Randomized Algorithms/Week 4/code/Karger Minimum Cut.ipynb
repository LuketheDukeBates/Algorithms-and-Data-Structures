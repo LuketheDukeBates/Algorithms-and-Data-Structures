{
 "cells": [
  {
   "cell_type": "markdown",
   "metadata": {},
   "source": [
    "Download the following text file:\n",
    "\n",
    "kargerMinCut.txt\n",
    "\n",
    "The file contains the adjacency list representation of a simple undirected graph. There are 200 vertices labeled 1 to 200. The first column in the file represents the vertex label, and the particular row (other entries except the first column) tells all the vertices that the vertex is adjacent to. So for example, the $6^{th}$ row looks like:\n",
    "    \n",
    "    \"6\t155\t56\t52\t120\t......\". \n",
    "    \n",
    "This just means that the vertex with label 6 is adjacent to (i.e., shares an edge with) the vertices with labels 155,56,52,120,......,etc\n",
    "\n",
    "Your task is to code up and run the randomized contraction algorithm for the min cut problem and use it on the above graph to compute the min cut. (HINT: Note that you'll have to figure out an implementation of edge contractions. Initially, you might want to do this naively, creating a new graph from the old every time there's an edge contraction. But you should also think about more efficient implementations.) (WARNING: As per the video lectures, please make sure to run the algorithm many times with different random seeds, and remember the smallest cut that you ever find.) Write your numeric answer in the space provided. So e.g., if your answer is 5, just type 5 in the space provided."
   ]
  },
  {
   "cell_type": "code",
   "execution_count": 1,
   "metadata": {},
   "outputs": [],
   "source": [
    "with open('kargerMinCut.txt') as f:\n",
    "    graph = []\n",
    "    for text in f:\n",
    "        line = text.split()      \n",
    "        array = [int(num) for num in line]\n",
    "        graph.append(array)"
   ]
  },
  {
   "cell_type": "code",
   "execution_count": 2,
   "metadata": {},
   "outputs": [
    {
     "name": "stdout",
     "output_type": "stream",
     "text": [
      "[1, 37, 79, 164, 155, 32, 87, 39, 113, 15, 18, 78, 175, 140, 200, 4, 160, 97, 191, 100, 91, 20, 69, 198, 196]\n"
     ]
    }
   ],
   "source": [
    "print(graph[0])"
   ]
  },
  {
   "cell_type": "code",
   "execution_count": 3,
   "metadata": {},
   "outputs": [
    {
     "name": "stdout",
     "output_type": "stream",
     "text": [
      "[200, 149, 155, 52, 87, 120, 39, 160, 137, 27, 79, 131, 100, 25, 55, 23, 126, 84, 166, 150, 62, 67, 1, 69, 35]\n"
     ]
    }
   ],
   "source": [
    "print(graph[-1])"
   ]
  },
  {
   "cell_type": "code",
   "execution_count": 4,
   "metadata": {},
   "outputs": [
    {
     "data": {
      "text/plain": [
       "200"
      ]
     },
     "execution_count": 4,
     "metadata": {},
     "output_type": "execute_result"
    }
   ],
   "source": [
    "len(graph)"
   ]
  },
  {
   "cell_type": "code",
   "execution_count": 5,
   "metadata": {},
   "outputs": [],
   "source": [
    "import random\n",
    "from copy import deepcopy as dc\n",
    "\n",
    "class Mincut:\n",
    "    \n",
    "    def __init__(self):\n",
    "        self = self\n",
    "    \n",
    "    def choose_edge(self, data):\n",
    "        a = random.randint(0, len(data)-1)\n",
    "        return a, random.randint(1, len(data[a])-1)\n",
    "\n",
    "    def compute_nodes(self, data):\n",
    "        return [data[idx][0] for idx, num in enumerate(data)]\n",
    "\n",
    "    def find_index(self, head, data, i, j):\n",
    "        return head.index(data[i][j])\n",
    "\n",
    "    def replace(self, head, data, index, i):\n",
    "        for num in data[index][1:]:\n",
    "            idx = head.index(num)\n",
    "            \n",
    "            for pos, val in enumerate(data[idx]):\n",
    "                if val == data[index][0]:\n",
    "                    data[idx][pos] = data[i][0]\n",
    "        \n",
    "        return data\n",
    "\n",
    "    def merge(self, data):\n",
    "        i, j = self.choose_edge(data)\n",
    "        head = self.compute_nodes(data)\n",
    "        idx = self.find_index(head, data, i, j)\n",
    "        \n",
    "        data[i] += data[idx][1:]\n",
    "        \n",
    "        data = self.replace(head, data, idx, i)\n",
    "        \n",
    "        data[i][1:] = [num for num in data[i][1:] if num != data[i][0]]\n",
    "        del data[idx]\n",
    "        \n",
    "        return data\n",
    "\n",
    "    def karger_min_cut(self, data):\n",
    "        data = dc(data)\n",
    "        while len(data) >= 3:\n",
    "            data = self.merge(data)            \n",
    "        \n",
    "        return len(data[0][1:])\n",
    "        \n",
    "    def answer(self, data, iters):\n",
    "        return min([self.karger_min_cut(data) for i in range(iters)])"
   ]
  },
  {
   "cell_type": "code",
   "execution_count": 6,
   "metadata": {},
   "outputs": [],
   "source": [
    "mc = Mincut()\n",
    "iterations = 10"
   ]
  },
  {
   "cell_type": "code",
   "execution_count": 7,
   "metadata": {},
   "outputs": [
    {
     "name": "stdout",
     "output_type": "stream",
     "text": [
      "The answer is 17.\n",
      "Wall time: 4.28 s\n"
     ]
    }
   ],
   "source": [
    "%%time\n",
    "answer = mc.answer(graph, iterations)\n",
    "print(\"The answer is {}.\".format(answer))"
   ]
  },
  {
   "cell_type": "code",
   "execution_count": null,
   "metadata": {},
   "outputs": [],
   "source": []
  }
 ],
 "metadata": {
  "kernelspec": {
   "display_name": "Python 3",
   "language": "python",
   "name": "python3"
  },
  "language_info": {
   "codemirror_mode": {
    "name": "ipython",
    "version": 3
   },
   "file_extension": ".py",
   "mimetype": "text/x-python",
   "name": "python",
   "nbconvert_exporter": "python",
   "pygments_lexer": "ipython3",
   "version": "3.6.7"
  }
 },
 "nbformat": 4,
 "nbformat_minor": 2
}
